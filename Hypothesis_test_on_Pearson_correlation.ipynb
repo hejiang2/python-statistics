{
  "nbformat": 4,
  "nbformat_minor": 0,
  "metadata": {
    "colab": {
      "name": "Hypothesis test on Pearson correlation.ipynb",
      "provenance": [],
      "authorship_tag": "ABX9TyNjgvJ3t6J01oXqt1pNeWZ/",
      "include_colab_link": true
    },
    "kernelspec": {
      "name": "python3",
      "display_name": "Python 3"
    }
  },
  "cells": [
    {
      "cell_type": "markdown",
      "metadata": {
        "id": "view-in-github",
        "colab_type": "text"
      },
      "source": [
        "<a href=\"https://colab.research.google.com/github/hejiang2/python-statistics/blob/master/Hypothesis_test_on_Pearson_correlation.ipynb\" target=\"_parent\"><img src=\"https://colab.research.google.com/assets/colab-badge.svg\" alt=\"Open In Colab\"/></a>"
      ]
    },
    {
      "cell_type": "markdown",
      "metadata": {
        "id": "9tfr3sb8VUqH",
        "colab_type": "text"
      },
      "source": [
        "The observed correlation between female illiteracy and fertility may just be by chance; the fertility of a given country may actually be totally independent of its illiteracy. You will test this hypothesis. To do so, permute the illiteracy values but leave the fertility values fixed. This simulates the hypothesis that they are totally independent of each other. For each permutation, compute the Pearson correlation coefficient and assess how many of your permutation replicates have a Pearson correlation coefficient greater than the observed one."
      ]
    },
    {
      "cell_type": "code",
      "metadata": {
        "id": "dSFIROCaVSEZ",
        "colab_type": "code",
        "colab": {}
      },
      "source": [
        "# Compute observed correlation: r_obs\n",
        "r_obs = pearson_r(illiteracy, fertility)\n",
        "\n",
        "# Initialize permutation replicates: perm_replicates\n",
        "perm_replicates = np.empty(10000)\n",
        "\n",
        "# Draw replicates\n",
        "for i in range(10000):\n",
        "    # Permute illiteracy measurments: illiteracy_permuted\n",
        "    illiteracy_permuted = np.random.permutation(illiteracy)\n",
        "\n",
        "    # Compute Pearson correlation\n",
        "    perm_replicates[i] = pearson_r(illiteracy_permuted, fertility)\n",
        "\n",
        "# Compute p-value: p\n",
        "p = np.sum(perm_replicates>=r_obs)/len(perm_replicates)\n",
        "print('p-val =', p)"
      ],
      "execution_count": null,
      "outputs": []
    }
  ]
}