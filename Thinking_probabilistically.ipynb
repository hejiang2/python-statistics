{
  "nbformat": 4,
  "nbformat_minor": 0,
  "metadata": {
    "colab": {
      "name": "Thinking probabilistically.ipynb",
      "provenance": [],
      "collapsed_sections": [],
      "authorship_tag": "ABX9TyPTt5BcpPCpBXlGMAfD9yIQ",
      "include_colab_link": true
    },
    "kernelspec": {
      "name": "python3",
      "display_name": "Python 3"
    }
  },
  "cells": [
    {
      "cell_type": "markdown",
      "metadata": {
        "id": "view-in-github",
        "colab_type": "text"
      },
      "source": [
        "<a href=\"https://colab.research.google.com/github/hejiang2/python-statistics/blob/master/Thinking_probabilistically.ipynb\" target=\"_parent\"><img src=\"https://colab.research.google.com/assets/colab-badge.svg\" alt=\"Open In Colab\"/></a>"
      ]
    },
    {
      "cell_type": "markdown",
      "metadata": {
        "id": "TylK6Z6TBpDh",
        "colab_type": "text"
      },
      "source": [
        "# 1.   Discrete variables\n",
        "\n",
        "\n",
        "> Bernoulli trial\n",
        "\n",
        "\n",
        "\n",
        "\n"
      ]
    },
    {
      "cell_type": "code",
      "metadata": {
        "id": "hsL8XMUx_-qe",
        "colab_type": "code",
        "colab": {
          "base_uri": "https://localhost:8080/",
          "height": 34
        },
        "outputId": "35f66b88-6da8-449d-d701-5bcccf3f56d2"
      },
      "source": [
        "import numpy as np\n",
        "np.random.seed(42)\n",
        "random_numbers = np.random.random(size=4)\n",
        "heads = random_numbers < 0.5\n",
        "np.sum(heads)"
      ],
      "execution_count": 1,
      "outputs": [
        {
          "output_type": "execute_result",
          "data": {
            "text/plain": [
              "1"
            ]
          },
          "metadata": {
            "tags": []
          },
          "execution_count": 1
        }
      ]
    },
    {
      "cell_type": "code",
      "metadata": {
        "id": "JNnC3A6WDMmA",
        "colab_type": "code",
        "colab": {
          "base_uri": "https://localhost:8080/",
          "height": 34
        },
        "outputId": "54458365-aa3a-49b3-f284-87f1a03eb67e"
      },
      "source": [
        "n_all_heads = 0 # Initialize number of 4-heads trials\n",
        "for _ in range(10000):\n",
        "  heads = np.random.random(size=4) < 0.5\n",
        "  n_heads = np.sum(heads)\n",
        "  if n_heads == 4:\n",
        "    n_all_heads += 1\n",
        "\n",
        "n_all_heads / 10000"
      ],
      "execution_count": 2,
      "outputs": [
        {
          "output_type": "execute_result",
          "data": {
            "text/plain": [
              "0.0619"
            ]
          },
          "metadata": {
            "tags": []
          },
          "execution_count": 2
        }
      ]
    },
    {
      "cell_type": "code",
      "metadata": {
        "id": "Patcb1DaDlen",
        "colab_type": "code",
        "colab": {}
      },
      "source": [
        "# write a function to perform n Bernoulli trials\n",
        "def perform_bernoulli_trials(n, p):\n",
        "    \"\"\"Perform n Bernoulli trials with success probability p\n",
        "    and return number of successes.\"\"\"\n",
        "    # Initialize number of successes: n_success\n",
        "    n_success = 0\n",
        "\n",
        "    # Perform trials\n",
        "    for i in range(n):\n",
        "        # Choose random number between zero and one: random_number\n",
        "        random_number = np.random.random()\n",
        "\n",
        "        # If less than p, it's a success so add one to n_success\n",
        "        if random_number<p:\n",
        "            n_success+=1\n",
        "\n",
        "    return n_success"
      ],
      "execution_count": 0,
      "outputs": []
    },
    {
      "cell_type": "markdown",
      "metadata": {
        "id": "jzlSmk4_ETQh",
        "colab_type": "text"
      },
      "source": [
        "Let's say a bank made 100 mortgage loans. It is possible that anywhere between 0 and 100 of the loans will be defaulted upon. You would like to know the probability of getting a given number of defaults, given that the probability of a default is p = 0.05. To investigate this, you will do a simulation. You will perform 100 Bernoulli trials using the perform_bernoulli_trials() function and record how many defaults we get. "
      ]
    },
    {
      "cell_type": "code",
      "metadata": {
        "id": "7EFBTr5bD7d4",
        "colab_type": "code",
        "colab": {
          "base_uri": "https://localhost:8080/",
          "height": 285
        },
        "outputId": "3d0b9d11-6f01-426b-f039-a59b63196fbf"
      },
      "source": [
        "import matplotlib.pyplot as plt\n",
        "import seaborn as sns\n",
        "sns.set()\n",
        "# Seed random number generator\n",
        "np.random.seed(42)\n",
        "\n",
        "# Initialize the number of defaults: n_defaults\n",
        "n_defaults = np.empty(1000)\n",
        "\n",
        "# Compute the number of defaults\n",
        "for i in range(1000):\n",
        "    n_defaults[i] = perform_bernoulli_trials(100, p = 0.05)\n",
        "\n",
        "plt.hist(n_defaults, density=True)\n",
        "plt.xlabel('number of defaults out of 100 loans')\n",
        "plt.ylabel('probability')\n",
        "plt.show()"
      ],
      "execution_count": 11,
      "outputs": [
        {
          "output_type": "display_data",
          "data": {
            "image/png": "[encoded data removed]",
            "text/plain": [
              "<Figure size 432x288 with 1 Axes>"
            ]
          },
          "metadata": {
            "tags": []
          }
        }
      ]
    },
    {
      "cell_type": "code",
      "metadata": {
        "id": "_By2LDLoEpbP",
        "colab_type": "code",
        "colab": {}
      },
      "source": [
        "# write a function to compute the ECDF\n",
        "def ecdf(data):\n",
        "    \"\"\"Compute ECDF for a one-dimensional array of measurements.\"\"\"\n",
        "    # Number of data points: n\n",
        "    n = len(data)\n",
        "\n",
        "    # x-data for the ECDF: x\n",
        "    x = np.sort(data)\n",
        "\n",
        "    # y-data for the ECDF: y\n",
        "    y = np.arange(1, n+1) / n\n",
        "\n",
        "    return x, y"
      ],
      "execution_count": 0,
      "outputs": []
    },
    {
      "cell_type": "code",
      "metadata": {
        "id": "b_LZ8kxOGpzy",
        "colab_type": "code",
        "colab": {
          "base_uri": "https://localhost:8080/",
          "height": 285
        },
        "outputId": "cf8f7063-5742-4cd1-d576-90f45ad8db14"
      },
      "source": [
        "# plot the number of defaults as a CDF\n",
        "# Compute ECDF: x, y\n",
        "x,y = ecdf(n_defaults)\n",
        "\n",
        "# Plot the ECDF with labeled axes\n",
        "plt.plot(x, y, marker='.', linestyle='none')\n",
        "plt.xlabel(\"the number of defaults\")\n",
        "plt.ylabel('ECDF')\n",
        "\n",
        "# Show the plot\n",
        "plt.show()"
      ],
      "execution_count": 13,
      "outputs": [
        {
          "output_type": "display_data",
          "data": {
            "image/png": "[encoded data removed]",
            "text/plain": [
              "<Figure size 432x288 with 1 Axes>"
            ]
          },
          "metadata": {
            "tags": []
          }
        }
      ]
    },
    {
      "cell_type": "markdown",
      "metadata": {
        "id": "7HdSi7JDHPW8",
        "colab_type": "text"
      },
      "source": [
        "Binomial distribution\n",
        "\n"
      ]
    },
    {
      "cell_type": "code",
      "metadata": {
        "id": "H10Pr3jFHDKc",
        "colab_type": "code",
        "colab": {
          "base_uri": "https://localhost:8080/",
          "height": 285
        },
        "outputId": "dbe1fa0f-71a6-41ec-82ba-942bebec5f82"
      },
      "source": [
        "# Take 10,000 samples out of the binomial distribution: n_defaults\n",
        "n_defaults = np.random.binomial(n = 100, p =0.05, size =10000)\n",
        "\n",
        "# Compute CDF: x, y\n",
        "x,y=ecdf(n_defaults)\n",
        "\n",
        "# Plot the CDF with axis labels\n",
        "plt.plot(x,y,marker=\".\",linestyle=\"none\")\n",
        "plt.xlabel(\"the number of defaults out of 100 loans\")\n",
        "plt.ylabel(\"CDF\")\n",
        "\n",
        "# Show the plot\n",
        "plt.show()"
      ],
      "execution_count": 14,
      "outputs": [
        {
          "output_type": "display_data",
          "data": {
            "image/png": "[encoded data removed]",
            "text/plain": [
              "<Figure size 432x288 with 1 Axes>"
            ]
          },
          "metadata": {
            "tags": []
          }
        }
      ]
    },
    {
      "cell_type": "markdown",
      "metadata": {
        "id": "MjpDeBhaJGW5",
        "colab_type": "text"
      },
      "source": [
        "# 2.   Continuous variables"
      ]
    },
    {
      "cell_type": "markdown",
      "metadata": {
        "id": "qnk5OvGPMowy",
        "colab_type": "text"
      },
      "source": [
        "Normal distribution"
      ]
    },
    {
      "cell_type": "code",
      "metadata": {
        "id": "xi9Ek2rXHccZ",
        "colab_type": "code",
        "colab": {
          "base_uri": "https://localhost:8080/",
          "height": 268
        },
        "outputId": "8812565b-2372-4623-87dc-a705d7cd6cf3"
      },
      "source": [
        "# Draw 100000 samples from Normal distribution with stds of interest: samples_std1, samples_std3, samples_std10\n",
        "samples_std1 = np.random.normal(20, 1, size = 100000)\n",
        "samples_std3 = np.random.normal(20, 3, size = 100000)\n",
        "samples_std10 = np.random.normal(20, 10, size = 100000)\n",
        "\n",
        "# Make histograms\n",
        "plt.hist(samples_std1, density=True, histtype='step', bins=100)\n",
        "plt.hist(samples_std3, density=True, histtype='step', bins=100)\n",
        "plt.hist(samples_std10, density=True, histtype='step', bins=100)\n",
        "\n",
        "# Make a legend, set limits and show plot\n",
        "plt.legend(('std = 1', 'std = 3', 'std = 10'))\n",
        "plt.ylim(-0.01, 0.42)\n",
        "plt.show()\n"
      ],
      "execution_count": 16,
      "outputs": [
        {
          "output_type": "display_data",
          "data": {
            "image/png": "[encoded data removed]",
            "text/plain": [
              "<Figure size 432x288 with 1 Axes>"
            ]
          },
          "metadata": {
            "tags": []
          }
        }
      ]
    },
    {
      "cell_type": "code",
      "metadata": {
        "id": "VPhverJkMjIB",
        "colab_type": "code",
        "colab": {
          "base_uri": "https://localhost:8080/",
          "height": 268
        },
        "outputId": "f0a74752-adc8-4d70-be59-743ae912a563"
      },
      "source": [
        "# Generate CDFs\n",
        "x_std1, y_std1 = ecdf(samples_std1)\n",
        "x_std3, y_std3 = ecdf(samples_std3)\n",
        "x_std10, y_std10 = ecdf(samples_std10)\n",
        "\n",
        "# Plot CDFs\n",
        "plt.plot(x_std1, y_std1, marker = '.', linestyle = \"none\")\n",
        "plt.plot(x_std3, y_std3, marker = '.', linestyle = \"none\")\n",
        "plt.plot(x_std10, y_std10, marker = '.', linestyle = \"none\")\n",
        "\n",
        "# Make a legend and show the plot\n",
        "plt.legend(('std = 1', 'std = 3', 'std = 10'), loc='lower right')\n",
        "plt.show()"
      ],
      "execution_count": 17,
      "outputs": [
        {
          "output_type": "display_data",
          "data": {
            "image/png": "[encoded data removed]",
            "text/plain": [
              "<Figure size 432x288 with 1 Axes>"
            ]
          },
          "metadata": {
            "tags": []
          }
        }
      ]
    },
    {
      "cell_type": "markdown",
      "metadata": {
        "id": "w1N3-lBVPHLm",
        "colab_type": "text"
      },
      "source": [
        "Poisson distribution and Exponential distribution\n"
      ]
    },
    {
      "cell_type": "markdown",
      "metadata": {
        "id": "17K44lnWQ7Y1",
        "colab_type": "text"
      },
      "source": [
        "In baseball, a no-hitter is a game in which a pitcher does not allow the other team to get a hit. This is a rare event, and since the beginning of the so-called modern era of baseball (starting in 1901), there have only been 251 of them through the 2015 season in over 200,000 games. Which probability distribution would be appropriate to describe the number of no-hitters we would expect in a given season?\n",
        "\n",
        "Both Binomial and Poisson, though Poisson is easier to model and compute.\n",
        "\n",
        "Hitting the cycle is another rare baseball event. When a batter hits the cycle, he gets all four kinds of hits, a single, double, triple, and home run, in a single game. Like no-hitters, this can be modeled as a Poisson process, so the time between hits of the cycle are also Exponentially distributed.\n",
        "\n",
        "How long must we wait to see both a no-hitter and then a batter hit the cycle? The idea is that we have to wait some time for the no-hitter, and then after the no-hitter, we have to wait for hitting the cycle. Stated another way, what is the total waiting time for the arrival of two different Poisson processes? The total waiting time is the time waited for the no-hitter, plus the time waited for the hitting the cycle."
      ]
    },
    {
      "cell_type": "code",
      "metadata": {
        "id": "eOZev__pNKdU",
        "colab_type": "code",
        "colab": {}
      },
      "source": [
        "# write a function to compute the sum of the waiting times for the two events\n",
        "def successive_poisson(tau1, tau2, size=1):\n",
        "    \"\"\"Compute time for arrival of 2 successive Poisson processes.\"\"\"\n",
        "    # Draw samples out of first exponential distribution: t1\n",
        "    t1 = np.random.exponential(tau1, size)\n",
        "\n",
        "    # Draw samples out of second exponential distribution: t2\n",
        "    t2 = np.random.exponential(tau2, size)\n",
        "\n",
        "    return t1 + t2"
      ],
      "execution_count": 0,
      "outputs": []
    },
    {
      "cell_type": "code",
      "metadata": {
        "id": "mVSMNWXHRgQz",
        "colab_type": "code",
        "colab": {
          "base_uri": "https://localhost:8080/",
          "height": 285
        },
        "outputId": "66931af7-18bc-4114-c357-71b7f8e1753f"
      },
      "source": [
        "# the mean waiting time for a no-hitter is 764 games\n",
        "# the mean waiting time for hitting the cycle is 715 games\n",
        "# Draw samples of waiting times: waiting_times\n",
        "waiting_times = successive_poisson(764, 715, 100000)\n",
        "\n",
        "# Make the histogram\n",
        "plt.hist(waiting_times, bins=100, density=True, histtype='step')\n",
        "\n",
        "# Label axes\n",
        "plt.xlabel(\"the waiting times to observe a no-hitter and hitting of the cycle\")\n",
        "\n",
        "# Show the plot\n",
        "plt.show()\n"
      ],
      "execution_count": 20,
      "outputs": [
        {
          "output_type": "display_data",
          "data": {
            "image/png": "[encoded data removed]",
            "text/plain": [
              "<Figure size 432x288 with 1 Axes>"
            ]
          },
          "metadata": {
            "tags": []
          }
        }
      ]
    }
  ]
}