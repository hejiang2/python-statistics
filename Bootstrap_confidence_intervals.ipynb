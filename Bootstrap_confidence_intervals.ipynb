{
  "nbformat": 4,
  "nbformat_minor": 0,
  "metadata": {
    "colab": {
      "name": "Bootstrap confidence intervals.ipynb",
      "provenance": [],
      "collapsed_sections": [],
      "authorship_tag": "ABX9TyPw3n9qn7Ya3QBtxF7/lgm5",
      "include_colab_link": true
    },
    "kernelspec": {
      "name": "python3",
      "display_name": "Python 3"
    }
  },
  "cells": [
    {
      "cell_type": "markdown",
      "metadata": {
        "id": "view-in-github",
        "colab_type": "text"
      },
      "source": [
        "<a href=\"https://colab.research.google.com/github/hejiang2/python-statistics/blob/master/Bootstrap_confidence_intervals.ipynb\" target=\"_parent\"><img src=\"https://colab.research.google.com/assets/colab-badge.svg\" alt=\"Open In Colab\"/></a>"
      ]
    },
    {
      "cell_type": "markdown",
      "metadata": {
        "id": "p0CB0BZpy_rT",
        "colab_type": "text"
      },
      "source": [
        "In this exercise, you will generate bootstrap samples from the set of annual rainfall data measured at the Sheffield Weather Station in the UK from 1883 to 2015. The data are stored in the NumPy array rainfall in units of millimeters (mm). By graphically displaying the bootstrap samples with an ECDF, you can get a feel for how bootstrap sampling allows probabilistic descriptions of data."
      ]
    },
    {
      "cell_type": "code",
      "metadata": {
        "id": "rfEdgWnfzBKU",
        "colab_type": "code",
        "colab": {}
      },
      "source": [
        "for i in range(50):\n",
        "    # Generate bootstrap sample: bs_sample\n",
        "    bs_sample = np.random.choice(rainfall, size=len(rainfall))\n",
        "\n",
        "    # Compute and plot ECDF from bootstrap sample\n",
        "    x, y = ecdf(bs_sample)\n",
        "    _ = plt.plot(x, y, marker='.', linestyle='none',\n",
        "                 color='gray', alpha=0.1)\n",
        "\n",
        "# Compute and plot ECDF from original data\n",
        "x, y = ecdf(rainfall)\n",
        "_ = plt.plot(x, y, marker='.')\n",
        "\n",
        "# Make margins and label axes\n",
        "plt.margins(0.02)\n",
        "_ = plt.xlabel('yearly rainfall (mm)')\n",
        "_ = plt.ylabel('ECDF')\n",
        "\n",
        "# Show the plot\n",
        "plt.show()"
      ],
      "execution_count": null,
      "outputs": []
    },
    {
      "cell_type": "markdown",
      "metadata": {
        "id": "XAgfIkSkz1e_",
        "colab_type": "text"
      },
      "source": [
        "The function bootstrap_replicate_1d() from the video is available."
      ]
    },
    {
      "cell_type": "code",
      "metadata": {
        "id": "VIH8UW56z2oW",
        "colab_type": "code",
        "colab": {}
      },
      "source": [
        "def bootstrap_replicate_1d(data, func):\n",
        "    \"\"\"Generate bootstrap replicate of 1D data.\"\"\"\n",
        "    bs_sample = np.random.choice(data, len(data))\n",
        "    return func(bs_sample)"
      ],
      "execution_count": null,
      "outputs": []
    },
    {
      "cell_type": "markdown",
      "metadata": {
        "id": "42LG_dg7zFvL",
        "colab_type": "text"
      },
      "source": [
        "Now you'll write another function, draw_bs_reps(data, func, size=1), which generates many bootstrap replicates from the data set. This function will come in handy for you again and again as you compute confidence intervals and later when you do hypothesis tests."
      ]
    },
    {
      "cell_type": "code",
      "metadata": {
        "id": "-K0Co1TPzrYd",
        "colab_type": "code",
        "colab": {}
      },
      "source": [
        "def draw_bs_reps(data, func, size=1):\n",
        "    \"\"\"Draw bootstrap replicates.\"\"\"\n",
        "\n",
        "    # Initialize array of replicates: bs_replicates\n",
        "    bs_replicates = np.empty(size)\n",
        "\n",
        "    # Generate replicates\n",
        "    for i in range(size):\n",
        "        bs_replicates[i] = bootstrap_replicate_1d(data, func)\n",
        "\n",
        "    return bs_replicates"
      ],
      "execution_count": null,
      "outputs": []
    },
    {
      "cell_type": "markdown",
      "metadata": {
        "id": "rXVgP3Tx2XUp",
        "colab_type": "text"
      },
      "source": [
        "Pairs bootstrap involves resampling pairs of data. Each collection of pairs fit with a line, in this case using np.polyfit()."
      ]
    },
    {
      "cell_type": "code",
      "metadata": {
        "id": "sndwGgwJ2ZES",
        "colab_type": "code",
        "colab": {}
      },
      "source": [
        "def draw_bs_pairs_linreg(x, y, size=1):\n",
        "    \"\"\"Perform pairs bootstrap for linear regression.\"\"\"\n",
        "\n",
        "    # Set up array of indices to sample from: inds\n",
        "    inds = np.arange(len(x))\n",
        "\n",
        "    # Initialize replicates: bs_slope_reps, bs_intercept_reps\n",
        "    bs_slope_reps = np.empty(size)\n",
        "    bs_intercept_reps = np.empty(size)\n",
        "\n",
        "    # Generate replicates\n",
        "    for i in range(size):\n",
        "        bs_inds = np.random.choice(inds, size=len(inds))\n",
        "        bs_x, bs_y = x[bs_inds], y[bs_inds]\n",
        "        bs_slope_reps[i], bs_intercept_reps[i] = np.polyfit(bs_x, bs_y, 1)\n",
        "\n",
        "    return bs_slope_reps, bs_intercept_reps"
      ],
      "execution_count": null,
      "outputs": []
    }
  ]
}