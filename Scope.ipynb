{
  "nbformat": 4,
  "nbformat_minor": 0,
  "metadata": {
    "colab": {
      "name": "Scope.ipynb",
      "provenance": [],
      "authorship_tag": "ABX9TyMknTNms9DGzsvVWzFphwqg",
      "include_colab_link": true
    },
    "kernelspec": {
      "name": "python3",
      "display_name": "Python 3"
    }
  },
  "cells": [
    {
      "cell_type": "markdown",
      "metadata": {
        "id": "view-in-github",
        "colab_type": "text"
      },
      "source": [
        "<a href=\"https://colab.research.google.com/github/hejiang2/python-statistics/blob/master/Scope.ipynb\" target=\"_parent\"><img src=\"https://colab.research.google.com/assets/colab-badge.svg\" alt=\"Open In Colab\"/></a>"
      ]
    },
    {
      "cell_type": "code",
      "metadata": {
        "id": "33zYydA4z-bx",
        "colab_type": "code",
        "colab": {
          "base_uri": "https://localhost:8080/",
          "height": 85
        },
        "outputId": "c48011da-72bc-4f87-dc29-f9d8eb8885c9"
      },
      "source": [
        "x = 50\n",
        "\n",
        "def one():\n",
        "  x = 10\n",
        "\n",
        "def two():\n",
        "  global x\n",
        "  x = 30\n",
        "\n",
        "def three():\n",
        "  x = 100\n",
        "  print(x)\n",
        "\n",
        "for func in [one, two, three]:\n",
        "  func()\n",
        "  print(x)"
      ],
      "execution_count": 1,
      "outputs": [
        {
          "output_type": "stream",
          "text": [
            "50\n",
            "30\n",
            "100\n",
            "30\n"
          ],
          "name": "stdout"
        }
      ]
    },
    {
      "cell_type": "markdown",
      "metadata": {
        "id": "qyEQQlYE0DET",
        "colab_type": "text"
      },
      "source": [
        "one() doesn't change the global x, so the first print() statement prints 50.\n",
        "\n",
        "two() does change the global x so the second print() statement prints 30.\n",
        "\n",
        "The print() statement inside the function three() is referencing the x value that is local to three(), so it prints 100.\n",
        "\n",
        "But three() does not change the global x value so the last print() statement prints 30 again."
      ]
    }
  ]
}