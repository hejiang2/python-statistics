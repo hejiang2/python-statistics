{
  "nbformat": 4,
  "nbformat_minor": 0,
  "metadata": {
    "colab": {
      "name": "Linear regression by least squares.ipynb",
      "provenance": [],
      "collapsed_sections": [],
      "authorship_tag": "ABX9TyOzIWuGieMosNo07zZeBex6",
      "include_colab_link": true
    },
    "kernelspec": {
      "name": "python3",
      "display_name": "Python 3"
    }
  },
  "cells": [
    {
      "cell_type": "markdown",
      "metadata": {
        "id": "view-in-github",
        "colab_type": "text"
      },
      "source": [
        "<a href=\"https://colab.research.google.com/github/hejiang2/python-statistics/blob/master/Linear_regression_by_least_squares.ipynb\" target=\"_parent\"><img src=\"https://colab.research.google.com/assets/colab-badge.svg\" alt=\"Open In Colab\"/></a>"
      ]
    },
    {
      "cell_type": "markdown",
      "metadata": {
        "id": "MfgGfFTRvYUl",
        "colab_type": "text"
      },
      "source": [
        "It is always a good idea to do some EDA ahead of our analysis. To this end, plot the fertility versus illiteracy and compute the Pearson correlation coefficient. The Numpy array illiteracy has the illiteracy rate among females for most of the world's nations. The array fertility has the corresponding fertility data."
      ]
    },
    {
      "cell_type": "code",
      "metadata": {
        "id": "FNnQhfXvvbHN",
        "colab_type": "code",
        "colab": {}
      },
      "source": [
        "# Plot the illiteracy rate versus fertility\n",
        "_ = plt.plot(illiteracy, fertility, marker='.', linestyle='none')\n",
        "\n",
        "# Set the margins and label axes\n",
        "plt.margins(0.02)\n",
        "_ = plt.xlabel('percent illiterate')\n",
        "_ = plt.ylabel('fertility')\n",
        "\n",
        "# Show the plot\n",
        "plt.show()\n",
        "\n",
        "# Show the Pearson correlation coefficient\n",
        "print(pearson_r(illiteracy, fertility))"
      ],
      "execution_count": null,
      "outputs": []
    },
    {
      "cell_type": "code",
      "metadata": {
        "id": "lOA9Kf0Evi6u",
        "colab_type": "code",
        "colab": {}
      },
      "source": [
        "# Perform a linear regression using np.polyfit(): a, b\n",
        "a, b = np.polyfit(illiteracy, fertility, 1)\n",
        "\n",
        "# Print the results to the screen\n",
        "print('slope =', a, 'children per woman / percent illiterate')\n",
        "print('intercept =', b, 'children per woman')\n",
        "\n",
        "# Make theoretical line to plot\n",
        "x = np.array([0, 100])\n",
        "y = a*x+b\n",
        "\n",
        "# Add regression line to your plot\n",
        "_ = plt.plot(x, y)\n",
        "\n",
        "# Draw the plot\n",
        "plt.show()\n"
      ],
      "execution_count": null,
      "outputs": []
    },
    {
      "cell_type": "markdown",
      "metadata": {
        "id": "HMgJqNa3vc2j",
        "colab_type": "text"
      },
      "source": [
        "The function np.polyfit() that you used to get your regression parameters finds the optimal slope and intercept. It is optimizing the sum of the squares of the residuals, also known as RSS (for residual sum of squares). In this exercise, you will plot the function that is being optimized, the RSS, versus the slope parameter a. To do this, fix the intercept to be what you found in the optimization. Then, plot the RSS vs. the slope. "
      ]
    },
    {
      "cell_type": "code",
      "metadata": {
        "id": "90_WUmfhvp1E",
        "colab_type": "code",
        "colab": {}
      },
      "source": [
        "# Specify slopes to consider: a_vals\n",
        "a_vals = np.linspace(0,0.1,200)\n",
        "\n",
        "# Initialize sum of square of residuals: rss\n",
        "rss = np.empty_like(a_vals)\n",
        "\n",
        "# Compute sum of square of residuals for each value of a_vals\n",
        "for i, a in enumerate(a_vals):\n",
        "    rss[i] = np.sum((fertility - a*illiteracy - b)**2)\n",
        "\n",
        "# Plot the RSS\n",
        "plt.plot(a_vals, rss, '-')\n",
        "plt.xlabel('slope (children per woman / percent illiterate)')\n",
        "plt.ylabel('sum of square of residuals')\n",
        "\n",
        "plt.show()\n"
      ],
      "execution_count": null,
      "outputs": []
    },
    {
      "cell_type": "markdown",
      "metadata": {
        "id": "YPIG3v0swCXO",
        "colab_type": "text"
      },
      "source": [
        "Anscombe's quartet\n",
        "\n",
        "For practice, perform a linear regression on the data set from Anscombe's quartet that is most reasonably interpreted with linear regression."
      ]
    },
    {
      "cell_type": "code",
      "metadata": {
        "id": "XqjtHKz3wLNX",
        "colab_type": "code",
        "colab": {}
      },
      "source": [
        "# Perform linear regression: a, b\n",
        "a, b = np.polyfit(x,y,1)\n",
        "\n",
        "# Print the slope and intercept\n",
        "print(a, b)\n",
        "\n",
        "# Generate theoretical x and y data: x_theor, y_theor\n",
        "x_theor = np.array([3, 15])\n",
        "y_theor = a * x_theor + b\n",
        "\n",
        "# Plot the Anscombe data and theoretical line\n",
        "_ = plt.plot(x,y,marker='.',linestyle='none')\n",
        "_ = plt.plot(x_theor, y_theor)\n",
        "\n",
        "# Label the axes\n",
        "plt.xlabel('x')\n",
        "plt.ylabel('y')\n",
        "\n",
        "# Show the plot\n",
        "plt.show()"
      ],
      "execution_count": null,
      "outputs": []
    },
    {
      "cell_type": "code",
      "metadata": {
        "id": "Ba3lQQctwzyI",
        "colab_type": "code",
        "colab": {}
      },
      "source": [
        "# Iterate through x,y pairs\n",
        "for x, y in zip(anscombe_x, anscombe_y):\n",
        "    # Compute the slope and intercept: a, b\n",
        "    a, b = np.polyfit(x,y,1)\n",
        "\n",
        "    # Print the result\n",
        "    print('slope:', a, 'intercept:', b)"
      ],
      "execution_count": null,
      "outputs": []
    }
  ]
}